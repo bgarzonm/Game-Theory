{
 "cells": [
  {
   "cell_type": "markdown",
   "id": "aca4aca2-d8fe-4e47-b6e2-6a51ebb96011",
   "metadata": {},
   "source": [
    "# Desarrollo de juegos evolutivos"
   ]
  },
  {
   "cell_type": "markdown",
   "id": "ec7fdcad-b40d-4c02-aa2a-dd4a28428ead",
   "metadata": {
    "tags": []
   },
   "source": [
    "## Librerías"
   ]
  },
  {
   "cell_type": "code",
   "execution_count": 1,
   "id": "4aa77be2-0b2e-4160-9033-ecdc8c64056a",
   "metadata": {},
   "outputs": [],
   "source": [
    "using Statistics, DataFrames, Plots"
   ]
  },
  {
   "cell_type": "markdown",
   "id": "162db17e-0390-43e9-8432-39ecf2922c4c",
   "metadata": {
    "tags": []
   },
   "source": [
    "## 1. Definición de los parametros del juego"
   ]
  },
  {
   "cell_type": "code",
   "execution_count": 2,
   "id": "672c9ef4-c9c5-4da0-8727-569d30b35ed7",
   "metadata": {},
   "outputs": [
    {
     "data": {
      "text/plain": [
       "50000"
      ]
     },
     "metadata": {},
     "output_type": "display_data"
    }
   ],
   "source": [
    "n_jugadores = 200\n",
    "ciclos = 50000"
   ]
  },
  {
   "cell_type": "markdown",
   "id": "f1e9845e-c6ae-4b5a-b80d-b7a5f26c7823",
   "metadata": {
    "tags": []
   },
   "source": [
    "## 2. Definición de la función de juego"
   ]
  },
  {
   "cell_type": "code",
   "execution_count": 3,
   "id": "663cf509-3c8b-4837-8a42-d7a6cf9ada82",
   "metadata": {},
   "outputs": [
    {
     "data": {
      "text/plain": [
       "juego (generic function with 1 method)"
      ]
     },
     "metadata": {},
     "output_type": "display_data"
    }
   ],
   "source": [
    "function juego(jugadores_A, jugadores_B, matriz_de_pagos_A, matriz_de_pagos_B)\n",
    "    # Generación de un número aleatorio para determinar el orden de los\n",
    "    # jugadores\n",
    "    jugadores_A[:, 3] = rand(n_jugadores)\n",
    "    jugadores_B[:, 3] = rand(n_jugadores)\n",
    "\n",
    "    # Ordenación de los jugadores\n",
    "    jugadores_A = sortslices(jugadores_A, dims = 1, by = x -> x[3])\n",
    "    jugadores_B = sortslices(jugadores_B, dims = 1, by = x -> x[3])\n",
    "\n",
    "    # Vector de pagos\n",
    "    vector_pago_A = zeros(n_jugadores)\n",
    "    vector_pago_B = zeros(n_jugadores)\n",
    "    \n",
    "    for i_jugador in 1:n_jugadores\n",
    "\n",
    "        # Jugador A\n",
    "        # Determinación del pago del jugador A\n",
    "        vector_pago_A[Int(i_jugador)] += matriz_de_pagos_A[Int(jugadores_A[Int(i_jugador), 1]), Int(jugadores_B[Int(i_jugador), 1])]\n",
    "        \n",
    "        # Jugador B\n",
    "        # Determinación del pago del jugador B\n",
    "        vector_pago_B[Int(i_jugador)] += matriz_de_pagos_B[Int(jugadores_B[Int(i_jugador), 1]), Int(jugadores_A[Int(i_jugador), 1])]\n",
    "    end\n",
    "    return vector_pago_A, vector_pago_B\n",
    "end"
   ]
  },
  {
   "cell_type": "markdown",
   "id": "78c59a8f-f168-4581-b574-2be944b233b3",
   "metadata": {
    "tags": []
   },
   "source": [
    "## 3. Definición de la función de mutación"
   ]
  },
  {
   "cell_type": "code",
   "execution_count": 4,
   "id": "d7f79c2e-33f6-4e7d-9af2-eea895539723",
   "metadata": {},
   "outputs": [
    {
     "data": {
      "text/plain": [
       "mutacion (generic function with 1 method)"
      ]
     },
     "metadata": {},
     "output_type": "display_data"
    }
   ],
   "source": [
    "function mutacion(jugadores, matriz_pagos, jugador)\n",
    "    n_j = size(jugadores)[1]\n",
    "    \n",
    "    # Si el número aleatorio es menor a 0.01, se genera una estrategia aleatoria\n",
    "    for i in 1:n_j\n",
    "        if rand() < 0.01\n",
    "            jugadores[Int(i), 1] = rand(1:Int(size(matriz_pagos)[jugador]), 1)[1]\n",
    "        end\n",
    "    end\n",
    "        \n",
    "    return jugadores\n",
    "end"
   ]
  },
  {
   "cell_type": "markdown",
   "id": "0f673abf-57c6-4832-a8c7-447b81c886f6",
   "metadata": {
    "tags": []
   },
   "source": [
    "## 4. Definición de la función de reproducción"
   ]
  },
  {
   "cell_type": "code",
   "execution_count": 5,
   "id": "121d99ee-87b9-43b1-8625-d2f6a0879353",
   "metadata": {},
   "outputs": [
    {
     "data": {
      "text/plain": [
       "reproduccion (generic function with 1 method)"
      ]
     },
     "metadata": {},
     "output_type": "display_data"
    }
   ],
   "source": [
    "function reproduccion(f_jugadores_A, f_jugadores_B)\n",
    "    # Selección de los jugadores con mayor pago\n",
    "    f_jugadores_A = sortslices(f_jugadores_A, dims = 1, by = x -> x[2])\n",
    "    f_jugadores_B = sortslices(f_jugadores_B, dims = 1, by = x -> x[2])\n",
    "\n",
    "    # Selección del 5% los jugadores con mayor pago\n",
    "    n_5 = round(n_jugadores*0.05)\n",
    "    mejores_A = f_jugadores_A[Int(n_jugadores-n_5+1):end, :]\n",
    "    mejores_B = f_jugadores_B[Int(n_jugadores-n_5+1):end, :]\n",
    "    \n",
    "    # Mutación\n",
    "    mejores_A = mutacion(mejores_A, matriz_de_pagos_A, 1)\n",
    "    mejores_B = mutacion(mejores_B, matriz_de_pagos_B, 2)\n",
    "\n",
    "    # Remplazo de los jugadores con menor pago por los mejores\n",
    "    f_jugadores_A[1:Int(n_5), 1] = mejores_A[:, 1]\n",
    "    f_jugadores_B[1:Int(n_5), 1] = mejores_B[:, 1]\n",
    "\n",
    "    return f_jugadores_A, f_jugadores_B\n",
    "end"
   ]
  },
  {
   "cell_type": "markdown",
   "id": "31784117-3f96-4a4a-adfd-25f708847881",
   "metadata": {
    "tags": []
   },
   "source": [
    "## 5. Definición de las estrategias\n",
    "Definición de pagos de las estrategias para dos tipos de jugadores (A y B)."
   ]
  },
  {
   "cell_type": "code",
   "execution_count": 6,
   "id": "808088cd-eb00-4aaf-90e7-1bf628d6b062",
   "metadata": {},
   "outputs": [
    {
     "data": {
      "text/plain": [
       "2×2 Matrix{Int64}:\n",
       " 3  4\n",
       " 1  0"
      ]
     },
     "metadata": {},
     "output_type": "display_data"
    }
   ],
   "source": [
    "matriz_de_pagos_A = [\n",
    "    3 1;\n",
    "    4 0\n",
    "    ]\n",
    "matriz_de_pagos_B = [\n",
    "    3 4;\n",
    "    1 0\n",
    "    ]\n"
   ]
  },
  {
   "cell_type": "markdown",
   "id": "bc475ba9-120e-4eaf-bbb9-2123488da583",
   "metadata": {
    "tags": []
   },
   "source": [
    "## 6. Definición de la población inicial\n",
    "Generación de la población inicial en matrices donde se almacenan las\n",
    "estrategias de los jugadores, los pagos de los jugadores y un número\n",
    "aleatorio para determinar el orden de los jugadores"
   ]
  },
  {
   "cell_type": "code",
   "execution_count": 7,
   "id": "10aa0f9d-0e30-4fa9-8cac-468315cbba38",
   "metadata": {
    "tags": []
   },
   "outputs": [
    {
     "data": {
      "text/plain": [
       "200-element Vector{Int64}:\n",
       " 2\n",
       " 1\n",
       " 2\n",
       " 2\n",
       " 2\n",
       " 1\n",
       " 2\n",
       " 1\n",
       " 1\n",
       " 1\n",
       " ⋮\n",
       " 2\n",
       " 2\n",
       " 2\n",
       " 1\n",
       " 1\n",
       " 1\n",
       " 2\n",
       " 1\n",
       " 1"
      ]
     },
     "metadata": {},
     "output_type": "display_data"
    }
   ],
   "source": [
    "# Matriz para cada tipo de jugadores (n_jugadores x 3)\n",
    "jugadores_A = zeros(n_jugadores, 3)\n",
    "jugadores_B = zeros(n_jugadores, 3)\n",
    "\n",
    "# Matriz de estrategias, primera columna para cada tipo de jugador\n",
    "jugadores_A[:, 1] = rand(1:size(matriz_de_pagos_A)[1], n_jugadores)\n",
    "jugadores_B[:, 1] = rand(1:size(matriz_de_pagos_A)[2], n_jugadores)"
   ]
  },
  {
   "cell_type": "markdown",
   "id": "7b4c8ccb-5327-432b-a585-ba8f2dd19bcb",
   "metadata": {
    "tags": []
   },
   "source": [
    "## 7. Ejecución del juego\n",
    "Data frame con el conteo por cada estrategia para cada tipo de jugador en cada ciclo"
   ]
  },
  {
   "cell_type": "code",
   "execution_count": 8,
   "id": "244f9e8e-8715-40fc-ae91-675c0b099c9d",
   "metadata": {},
   "outputs": [
    {
     "name": "stdout",
     "output_type": "stream",
     "text": [
      "10000\n"
     ]
    },
    {
     "name": "stdout",
     "output_type": "stream",
     "text": [
      "20000"
     ]
    },
    {
     "name": "stdout",
     "output_type": "stream",
     "text": [
      "\n",
      "30000\n"
     ]
    },
    {
     "name": "stdout",
     "output_type": "stream",
     "text": [
      "40000\n"
     ]
    },
    {
     "name": "stdout",
     "output_type": "stream",
     "text": [
      "50000\n"
     ]
    },
    {
     "name": "stdout",
     "output_type": "stream",
     "text": [
      "10000\n"
     ]
    },
    {
     "name": "stdout",
     "output_type": "stream",
     "text": [
      "20000\n"
     ]
    },
    {
     "name": "stdout",
     "output_type": "stream",
     "text": [
      "30000\n"
     ]
    },
    {
     "name": "stdout",
     "output_type": "stream",
     "text": [
      "40000\n"
     ]
    },
    {
     "name": "stdout",
     "output_type": "stream",
     "text": [
      "50000\n"
     ]
    },
    {
     "name": "stdout",
     "output_type": "stream",
     "text": [
      "10000\n"
     ]
    },
    {
     "name": "stdout",
     "output_type": "stream",
     "text": [
      "20000\n"
     ]
    },
    {
     "name": "stdout",
     "output_type": "stream",
     "text": [
      "30000\n"
     ]
    },
    {
     "name": "stdout",
     "output_type": "stream",
     "text": [
      "40000\n"
     ]
    },
    {
     "name": "stdout",
     "output_type": "stream",
     "text": [
      "50000\n"
     ]
    },
    {
     "name": "stdout",
     "output_type": "stream",
     "text": [
      "10000\n"
     ]
    },
    {
     "name": "stdout",
     "output_type": "stream",
     "text": [
      "20000\n"
     ]
    },
    {
     "name": "stdout",
     "output_type": "stream",
     "text": [
      "30000\n"
     ]
    },
    {
     "name": "stdout",
     "output_type": "stream",
     "text": [
      "40000\n"
     ]
    },
    {
     "name": "stdout",
     "output_type": "stream",
     "text": [
      "50000\n"
     ]
    },
    {
     "name": "stdout",
     "output_type": "stream",
     "text": [
      "10000\n"
     ]
    },
    {
     "name": "stdout",
     "output_type": "stream",
     "text": [
      "20000\n"
     ]
    },
    {
     "name": "stdout",
     "output_type": "stream",
     "text": [
      "30000\n"
     ]
    },
    {
     "name": "stdout",
     "output_type": "stream",
     "text": [
      "40000"
     ]
    },
    {
     "name": "stdout",
     "output_type": "stream",
     "text": [
      "\n",
      "50000"
     ]
    },
    {
     "name": "stdout",
     "output_type": "stream",
     "text": [
      "\n",
      "10000\n"
     ]
    },
    {
     "name": "stdout",
     "output_type": "stream",
     "text": [
      "20000\n"
     ]
    },
    {
     "name": "stdout",
     "output_type": "stream",
     "text": [
      "30000\n"
     ]
    },
    {
     "name": "stdout",
     "output_type": "stream",
     "text": [
      "40000\n"
     ]
    },
    {
     "name": "stdout",
     "output_type": "stream",
     "text": [
      "50000\n"
     ]
    },
    {
     "name": "stdout",
     "output_type": "stream",
     "text": [
      "10000\n"
     ]
    },
    {
     "name": "stdout",
     "output_type": "stream",
     "text": [
      "20000\n"
     ]
    },
    {
     "name": "stdout",
     "output_type": "stream",
     "text": [
      "30000\n"
     ]
    },
    {
     "name": "stdout",
     "output_type": "stream",
     "text": [
      "40000\n"
     ]
    },
    {
     "name": "stdout",
     "output_type": "stream",
     "text": [
      "50000\n"
     ]
    },
    {
     "name": "stdout",
     "output_type": "stream",
     "text": [
      "10000\n"
     ]
    },
    {
     "name": "stdout",
     "output_type": "stream",
     "text": [
      "20000\n"
     ]
    },
    {
     "name": "stdout",
     "output_type": "stream",
     "text": [
      "30000\n"
     ]
    },
    {
     "name": "stdout",
     "output_type": "stream",
     "text": [
      "40000\n"
     ]
    },
    {
     "name": "stdout",
     "output_type": "stream",
     "text": [
      "50000\n"
     ]
    },
    {
     "name": "stdout",
     "output_type": "stream",
     "text": [
      "10000\n"
     ]
    },
    {
     "name": "stdout",
     "output_type": "stream",
     "text": [
      "20000\n"
     ]
    },
    {
     "name": "stdout",
     "output_type": "stream",
     "text": [
      "30000\n"
     ]
    },
    {
     "name": "stdout",
     "output_type": "stream",
     "text": [
      "40000\n"
     ]
    },
    {
     "name": "stdout",
     "output_type": "stream",
     "text": [
      "50000\n"
     ]
    },
    {
     "name": "stdout",
     "output_type": "stream",
     "text": [
      "10000\n"
     ]
    },
    {
     "name": "stdout",
     "output_type": "stream",
     "text": [
      "20000\n"
     ]
    },
    {
     "name": "stdout",
     "output_type": "stream",
     "text": [
      "30000\n"
     ]
    },
    {
     "name": "stdout",
     "output_type": "stream",
     "text": [
      "40000"
     ]
    },
    {
     "name": "stdout",
     "output_type": "stream",
     "text": [
      "\n",
      "50000\n"
     ]
    },
    {
     "name": "stdout",
     "output_type": "stream",
     "text": [
      "10000\n"
     ]
    },
    {
     "name": "stdout",
     "output_type": "stream",
     "text": [
      "20000\n"
     ]
    },
    {
     "name": "stdout",
     "output_type": "stream",
     "text": [
      "30000\n"
     ]
    },
    {
     "name": "stdout",
     "output_type": "stream",
     "text": [
      "40000\n"
     ]
    },
    {
     "name": "stdout",
     "output_type": "stream",
     "text": [
      "50000\n"
     ]
    },
    {
     "name": "stdout",
     "output_type": "stream",
     "text": [
      "10000\n"
     ]
    },
    {
     "name": "stdout",
     "output_type": "stream",
     "text": [
      "20000\n"
     ]
    },
    {
     "name": "stdout",
     "output_type": "stream",
     "text": [
      "30000\n"
     ]
    },
    {
     "name": "stdout",
     "output_type": "stream",
     "text": [
      "40000\n"
     ]
    },
    {
     "name": "stdout",
     "output_type": "stream",
     "text": [
      "50000\n"
     ]
    },
    {
     "name": "stdout",
     "output_type": "stream",
     "text": [
      "10000\n"
     ]
    },
    {
     "name": "stdout",
     "output_type": "stream",
     "text": [
      "20000\n"
     ]
    },
    {
     "name": "stdout",
     "output_type": "stream",
     "text": [
      "30000\n"
     ]
    },
    {
     "name": "stdout",
     "output_type": "stream",
     "text": [
      "40000\n"
     ]
    },
    {
     "name": "stdout",
     "output_type": "stream",
     "text": [
      "50000\n"
     ]
    },
    {
     "name": "stdout",
     "output_type": "stream",
     "text": [
      "10000\n"
     ]
    },
    {
     "name": "stdout",
     "output_type": "stream",
     "text": [
      "20000\n"
     ]
    },
    {
     "name": "stdout",
     "output_type": "stream",
     "text": [
      "30000\n"
     ]
    },
    {
     "name": "stdout",
     "output_type": "stream",
     "text": [
      "40000\n"
     ]
    },
    {
     "name": "stdout",
     "output_type": "stream",
     "text": [
      "50000\n"
     ]
    },
    {
     "name": "stdout",
     "output_type": "stream",
     "text": [
      "10000\n"
     ]
    },
    {
     "name": "stdout",
     "output_type": "stream",
     "text": [
      "20000\n"
     ]
    },
    {
     "name": "stdout",
     "output_type": "stream",
     "text": [
      "30000\n"
     ]
    },
    {
     "name": "stdout",
     "output_type": "stream",
     "text": [
      "40000\n"
     ]
    },
    {
     "name": "stdout",
     "output_type": "stream",
     "text": [
      "50000\n"
     ]
    },
    {
     "name": "stdout",
     "output_type": "stream",
     "text": [
      "10000\n"
     ]
    },
    {
     "name": "stdout",
     "output_type": "stream",
     "text": [
      "20000\n"
     ]
    },
    {
     "name": "stdout",
     "output_type": "stream",
     "text": [
      "30000\n"
     ]
    },
    {
     "name": "stdout",
     "output_type": "stream",
     "text": [
      "40000\n"
     ]
    },
    {
     "name": "stdout",
     "output_type": "stream",
     "text": [
      "50000\n"
     ]
    },
    {
     "name": "stdout",
     "output_type": "stream",
     "text": [
      "10000\n"
     ]
    },
    {
     "name": "stdout",
     "output_type": "stream",
     "text": [
      "20000\n"
     ]
    },
    {
     "name": "stdout",
     "output_type": "stream",
     "text": [
      "30000\n"
     ]
    },
    {
     "name": "stdout",
     "output_type": "stream",
     "text": [
      "40000\n"
     ]
    },
    {
     "name": "stdout",
     "output_type": "stream",
     "text": [
      "50000\n"
     ]
    },
    {
     "name": "stdout",
     "output_type": "stream",
     "text": [
      "10000\n"
     ]
    },
    {
     "name": "stdout",
     "output_type": "stream",
     "text": [
      "20000\n"
     ]
    },
    {
     "name": "stdout",
     "output_type": "stream",
     "text": [
      "30000\n"
     ]
    },
    {
     "name": "stdout",
     "output_type": "stream",
     "text": [
      "40000\n"
     ]
    },
    {
     "name": "stdout",
     "output_type": "stream",
     "text": [
      "50000\n"
     ]
    },
    {
     "name": "stdout",
     "output_type": "stream",
     "text": [
      "10000\n"
     ]
    },
    {
     "name": "stdout",
     "output_type": "stream",
     "text": [
      "20000\n"
     ]
    },
    {
     "name": "stdout",
     "output_type": "stream",
     "text": [
      "30000\n"
     ]
    },
    {
     "name": "stdout",
     "output_type": "stream",
     "text": [
      "40000\n"
     ]
    },
    {
     "name": "stdout",
     "output_type": "stream",
     "text": [
      "50000\n"
     ]
    },
    {
     "name": "stdout",
     "output_type": "stream",
     "text": [
      "10000\n"
     ]
    },
    {
     "name": "stdout",
     "output_type": "stream",
     "text": [
      "20000\n"
     ]
    },
    {
     "name": "stdout",
     "output_type": "stream",
     "text": [
      "30000\n"
     ]
    },
    {
     "name": "stdout",
     "output_type": "stream",
     "text": [
      "40000\n"
     ]
    },
    {
     "name": "stdout",
     "output_type": "stream",
     "text": [
      "50000\n"
     ]
    }
   ],
   "source": [
    "using CSV\n",
    "\n",
    "for sim in 1:20\n",
    "    df_A = DataFrame(\n",
    "        ciclo = Int[],\n",
    "        C = Int[],\n",
    "        NC = Int[]\n",
    "        )\n",
    "\n",
    "    df_B = DataFrame(\n",
    "        ciclo = Int[],\n",
    "        C = Int[],\n",
    "        NC = Int[]\n",
    "        )\n",
    "\n",
    "    for i in 1:ciclos\n",
    "        if i % 10000 == 0\n",
    "            println(i)\n",
    "        end\n",
    "\n",
    "        # Reproducción\n",
    "        if i % 100 == 0\n",
    "            jugadores_A, jugadores_B = reproduccion(jugadores_A, jugadores_B)\n",
    "        end\n",
    "\n",
    "        # Juego\n",
    "        vector_pago_A, vector_pago_B = juego(jugadores_A, jugadores_B, matriz_de_pagos_A, matriz_de_pagos_B)\n",
    "        jugadores_A[:, 2] += vector_pago_A[:]\n",
    "        jugadores_B[:, 2] += vector_pago_B[:]\n",
    "\n",
    "        # Actualización de los data frames\n",
    "        push!(df_A, [\n",
    "            i,\n",
    "            sum(jugadores_A[:, 1] .== 1),\n",
    "            sum(jugadores_A[:, 1] .== 2)\n",
    "            ])\n",
    "        push!(df_B, [\n",
    "            i,\n",
    "            sum(jugadores_B[:, 1] .== 1),\n",
    "            sum(jugadores_B[:, 1] .== 2)\n",
    "            ])\n",
    "    end\n",
    "\n",
    "    # Save the data frames for each simulation\n",
    "    CSV.write(\"../data/simulacion$(sim)A.csv\", df_A) \n",
    "    CSV.write(\"../data/simulacion$(sim)B.csv\", df_B) \n",
    "end\n"
   ]
  },
  {
   "cell_type": "markdown",
   "id": "7cad8b4e-0a54-4002-942e-0a3954bee2aa",
   "metadata": {
    "tags": []
   },
   "source": [
    "## 8. Grafico de los resultados"
   ]
  },
  {
   "cell_type": "code",
   "execution_count": 9,
   "id": "92add7f9-5995-45e1-a19c-a8a645a06a51",
   "metadata": {},
   "outputs": [
    {
     "ename": "UndefVarError",
     "evalue": "UndefVarError: df_A not defined",
     "output_type": "error",
     "traceback": [
      "UndefVarError: df_A not defined\n",
      "\n",
      "Stacktrace:\n",
      " [1] top-level scope\n",
      "   @ c:\\Users\\esnei\\Desktop\\Python\\Game-Theory\\Game-Theory\\data\\game_simulation.ipynb:1"
     ]
    }
   ],
   "source": [
    "plot(\n",
    "    df_A.ciclo,\n",
    "    [df_A.C,\n",
    "    df_A.NC],\n",
    "    label = [\"C\" \"NC\"]\n",
    "    )"
   ]
  },
  {
   "cell_type": "code",
   "execution_count": 10,
   "id": "85219611-f5d1-4002-8669-6018da8cac75",
   "metadata": {},
   "outputs": [
    {
     "ename": "UndefVarError",
     "evalue": "UndefVarError: df_B not defined",
     "output_type": "error",
     "traceback": [
      "UndefVarError: df_B not defined\n",
      "\n",
      "Stacktrace:\n",
      " [1] top-level scope\n",
      "   @ c:\\Users\\esnei\\Desktop\\Python\\Game-Theory\\Game-Theory\\data\\game_simulation.ipynb:2"
     ]
    }
   ],
   "source": [
    "# Gráfico de los resultados\n",
    "plot(\n",
    "    df_B.ciclo,\n",
    "    [df_B.C,\n",
    "    df_B.NC],\n",
    "    label = [\"C\" \"NC\"]\n",
    "    )"
   ]
  }
 ],
 "metadata": {
  "kernelspec": {
   "display_name": "Julia 1.6.7",
   "language": "julia",
   "name": "julia-1.6"
  },
  "language_info": {
   "file_extension": ".jl",
   "mimetype": "application/julia",
   "name": "julia",
   "version": "1.6.7"
  }
 },
 "nbformat": 4,
 "nbformat_minor": 5
}
